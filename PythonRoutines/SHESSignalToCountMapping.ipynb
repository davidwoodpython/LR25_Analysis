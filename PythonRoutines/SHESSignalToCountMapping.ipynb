{
 "metadata": {
  "name": "",
  "signature": "sha256:97a906b1d5c33f0d0cf36de4bae6cd266c6258585982e711f34d0f83fd2d4bbe"
 },
 "nbformat": 3,
 "nbformat_minor": 0,
 "worksheets": [
  {
   "cells": [
    {
     "cell_type": "code",
     "collapsed": false,
     "input": [
      "from psana import *\n",
      "import numpy as np\n",
      "from matplotlib import pyplot as plt\n",
      "%matplotlib nbagg\n",
      "\n",
      "from SHESPreProcessing import SHESPreProcessor"
     ],
     "language": "python",
     "metadata": {},
     "outputs": [
      {
       "ename": "SyntaxError",
       "evalue": "invalid syntax (SHESPreProcessing.py, line 153)",
       "output_type": "pyerr",
       "traceback": [
        "\u001b[1;36m  File \u001b[1;32m\"SHESPreProcessing.py\"\u001b[1;36m, line \u001b[1;32m153\u001b[0m\n\u001b[1;33m    def OnlineProcess(self, event);\u001b[0m\n\u001b[1;37m                                  ^\u001b[0m\n\u001b[1;31mSyntaxError\u001b[0m\u001b[1;31m:\u001b[0m invalid syntax\n"
       ]
      }
     ],
     "prompt_number": 1
    },
    {
     "cell_type": "code",
     "collapsed": false,
     "input": [
      "# Specify some parameters\n",
      "ds = DataSource(\"exp=AMO/amon0816:run=228:smd:dir=/reg/d/psdm/amo/amon0816/xtc:live\")\n",
      "\n",
      "threshold=500\n",
      "test_num=500\n",
      "\n",
      "convfacts=[]\n",
      "\n",
      "###\n",
      "proc=SHESPreProcessor(threshold=threshold)\n",
      "print proc.threshold\n",
      "\n",
      "for nevt, evt in enumerate(ds.events()):\n",
      "    if nevt%500==0:\n",
      "        print nevt\n",
      "    rawimg=proc.GetRawImg(evt) #copy to allow thresholding\n",
      "    if rawimg is None:\n",
      "        continue\n",
      "    signalinteg=proc.Threshold(proc.DiscardBorder(proc.PerspectiveTransform(rawimg))).sum().sum()\n",
      "    \n",
      "    xs,_,_=proc.PreProcess(evt)\n",
      "    \n",
      "    if xs==[np.nan]:\n",
      "        print 'No Coms found for '+str(nevt)\n",
      "        continue\n",
      "    else:\n",
      "        convfacts.append(signalinteg/float(len(xs)))"
     ],
     "language": "python",
     "metadata": {},
     "outputs": [
      {
       "output_type": "stream",
       "stream": "stdout",
       "text": [
        "500\n",
        "0\n",
        "100"
       ]
      },
      {
       "output_type": "stream",
       "stream": "stdout",
       "text": [
        "\n",
        "200"
       ]
      },
      {
       "output_type": "stream",
       "stream": "stdout",
       "text": [
        "\n",
        "300"
       ]
      },
      {
       "output_type": "stream",
       "stream": "stdout",
       "text": [
        "\n",
        "400"
       ]
      },
      {
       "output_type": "stream",
       "stream": "stdout",
       "text": [
        "\n",
        "500"
       ]
      },
      {
       "output_type": "stream",
       "stream": "stdout",
       "text": [
        "\n",
        "600"
       ]
      },
      {
       "output_type": "stream",
       "stream": "stdout",
       "text": [
        "\n",
        "700"
       ]
      },
      {
       "output_type": "stream",
       "stream": "stdout",
       "text": [
        "\n",
        "800"
       ]
      },
      {
       "output_type": "stream",
       "stream": "stdout",
       "text": [
        "\n",
        "900"
       ]
      },
      {
       "output_type": "stream",
       "stream": "stdout",
       "text": [
        "\n",
        "1000"
       ]
      },
      {
       "output_type": "stream",
       "stream": "stdout",
       "text": [
        "\n",
        "1100"
       ]
      },
      {
       "output_type": "stream",
       "stream": "stdout",
       "text": [
        "\n",
        "1200"
       ]
      },
      {
       "output_type": "stream",
       "stream": "stdout",
       "text": [
        "\n",
        "1300"
       ]
      },
      {
       "output_type": "stream",
       "stream": "stdout",
       "text": [
        "\n",
        "1400"
       ]
      },
      {
       "output_type": "stream",
       "stream": "stdout",
       "text": [
        "\n",
        "1500"
       ]
      },
      {
       "output_type": "stream",
       "stream": "stdout",
       "text": [
        "\n",
        "1600"
       ]
      },
      {
       "output_type": "stream",
       "stream": "stdout",
       "text": [
        "\n",
        "1700"
       ]
      },
      {
       "output_type": "stream",
       "stream": "stdout",
       "text": [
        "\n",
        "1800"
       ]
      },
      {
       "output_type": "stream",
       "stream": "stdout",
       "text": [
        "\n",
        "No Coms found for 1831"
       ]
      },
      {
       "output_type": "stream",
       "stream": "stdout",
       "text": [
        "\n",
        "No Coms found for 1832\n",
        "No Coms found for 1833"
       ]
      },
      {
       "output_type": "stream",
       "stream": "stdout",
       "text": [
        "\n",
        "No Coms found for 1834\n",
        "No Coms found for 1835"
       ]
      },
      {
       "output_type": "stream",
       "stream": "stdout",
       "text": [
        "\n",
        "No Coms found for 1836\n",
        "No Coms found for 1837"
       ]
      },
      {
       "output_type": "stream",
       "stream": "stdout",
       "text": [
        "\n",
        "No Coms found for 1838\n",
        "No Coms found for 1839"
       ]
      },
      {
       "output_type": "stream",
       "stream": "stdout",
       "text": [
        "\n",
        "No Coms found for 1840\n",
        "No Coms found for 1841"
       ]
      },
      {
       "output_type": "stream",
       "stream": "stdout",
       "text": [
        "\n",
        "No Coms found for 1842\n",
        "No Coms found for 1843"
       ]
      },
      {
       "output_type": "stream",
       "stream": "stdout",
       "text": [
        "\n",
        "No Coms found for 1844\n",
        "No Coms found for 1845"
       ]
      },
      {
       "output_type": "stream",
       "stream": "stdout",
       "text": [
        "\n",
        "No Coms found for 1846\n",
        "No Coms found for 1847"
       ]
      },
      {
       "output_type": "stream",
       "stream": "stdout",
       "text": [
        "\n",
        "No Coms found for 1848\n",
        "No Coms found for 1849"
       ]
      },
      {
       "output_type": "stream",
       "stream": "stdout",
       "text": [
        "\n",
        "No Coms found for 1850\n",
        "No Coms found for 1851"
       ]
      },
      {
       "output_type": "stream",
       "stream": "stdout",
       "text": [
        "\n",
        "No Coms found for 1852"
       ]
      },
      {
       "output_type": "stream",
       "stream": "stdout",
       "text": [
        "\n",
        "No Coms found for 1853"
       ]
      },
      {
       "output_type": "stream",
       "stream": "stdout",
       "text": [
        "\n",
        "No Coms found for 1854"
       ]
      },
      {
       "output_type": "stream",
       "stream": "stdout",
       "text": [
        "\n",
        "No Coms found for 1855\n",
        "No Coms found for 1856"
       ]
      },
      {
       "output_type": "stream",
       "stream": "stdout",
       "text": [
        "\n",
        "No Coms found for 1857"
       ]
      },
      {
       "output_type": "stream",
       "stream": "stdout",
       "text": [
        "\n",
        "No Coms found for 1858\n",
        "No Coms found for 1859"
       ]
      },
      {
       "output_type": "stream",
       "stream": "stdout",
       "text": [
        "\n",
        "No Coms found for 1860\n",
        "No Coms found for 1861"
       ]
      },
      {
       "output_type": "stream",
       "stream": "stdout",
       "text": [
        "\n",
        "No Coms found for 1862\n",
        "No Coms found for 1863"
       ]
      },
      {
       "output_type": "stream",
       "stream": "stdout",
       "text": [
        "\n",
        "No Coms found for 1864\n",
        "No Coms found for 1865"
       ]
      },
      {
       "output_type": "stream",
       "stream": "stdout",
       "text": [
        "\n",
        "No Coms found for 1866\n",
        "No Coms found for 1867"
       ]
      },
      {
       "output_type": "stream",
       "stream": "stdout",
       "text": [
        "\n",
        "No Coms found for 1868\n",
        "No Coms found for 1869"
       ]
      },
      {
       "output_type": "stream",
       "stream": "stdout",
       "text": [
        "\n",
        "No Coms found for 1870"
       ]
      },
      {
       "output_type": "stream",
       "stream": "stdout",
       "text": [
        "\n",
        "No Coms found for 1871"
       ]
      },
      {
       "output_type": "stream",
       "stream": "stdout",
       "text": [
        "\n",
        "No Coms found for 1872"
       ]
      },
      {
       "output_type": "stream",
       "stream": "stdout",
       "text": [
        "\n",
        "No Coms found for 1873"
       ]
      },
      {
       "output_type": "stream",
       "stream": "stdout",
       "text": [
        "\n",
        "No Coms found for 1874\n",
        "No Coms found for 1875"
       ]
      },
      {
       "output_type": "stream",
       "stream": "stdout",
       "text": [
        "\n",
        "No Coms found for 1876\n",
        "No Coms found for 1877"
       ]
      },
      {
       "output_type": "stream",
       "stream": "stdout",
       "text": [
        "\n",
        "No Coms found for 1878\n",
        "No Coms found for 1879"
       ]
      },
      {
       "output_type": "stream",
       "stream": "stdout",
       "text": [
        "\n",
        "No Coms found for 1880\n",
        "No Coms found for 1881"
       ]
      },
      {
       "output_type": "stream",
       "stream": "stdout",
       "text": [
        "\n",
        "No Coms found for 1882\n",
        "No Coms found for 1883"
       ]
      },
      {
       "output_type": "stream",
       "stream": "stdout",
       "text": [
        "\n",
        "No Coms found for 1884\n",
        "No Coms found for 1885"
       ]
      },
      {
       "output_type": "stream",
       "stream": "stdout",
       "text": [
        "\n",
        "No Coms found for 1886\n",
        "No Coms found for 1887"
       ]
      },
      {
       "output_type": "stream",
       "stream": "stdout",
       "text": [
        "\n",
        "No Coms found for 1888\n",
        "No Coms found for 1889"
       ]
      },
      {
       "output_type": "stream",
       "stream": "stdout",
       "text": [
        "\n",
        "No Coms found for 1890"
       ]
      },
      {
       "output_type": "stream",
       "stream": "stdout",
       "text": [
        "\n",
        "No Coms found for 1891"
       ]
      },
      {
       "output_type": "stream",
       "stream": "stdout",
       "text": [
        "\n",
        "1900"
       ]
      },
      {
       "output_type": "stream",
       "stream": "stdout",
       "text": [
        "\n",
        "2000"
       ]
      },
      {
       "output_type": "stream",
       "stream": "stdout",
       "text": [
        "\n",
        "2100"
       ]
      },
      {
       "output_type": "stream",
       "stream": "stdout",
       "text": [
        "\n",
        "2200"
       ]
      },
      {
       "output_type": "stream",
       "stream": "stdout",
       "text": [
        "\n",
        "2300"
       ]
      },
      {
       "output_type": "stream",
       "stream": "stdout",
       "text": [
        "\n",
        "2400"
       ]
      },
      {
       "output_type": "stream",
       "stream": "stdout",
       "text": [
        "\n",
        "2500"
       ]
      },
      {
       "output_type": "stream",
       "stream": "stdout",
       "text": [
        "\n",
        "No Coms found for 2588"
       ]
      },
      {
       "output_type": "stream",
       "stream": "stdout",
       "text": [
        "\n",
        "2600"
       ]
      },
      {
       "output_type": "stream",
       "stream": "stdout",
       "text": [
        "\n",
        "2700"
       ]
      },
      {
       "output_type": "stream",
       "stream": "stdout",
       "text": [
        "\n",
        "No Coms found for 2781"
       ]
      },
      {
       "output_type": "stream",
       "stream": "stdout",
       "text": [
        "\n",
        "No Coms found for 2782"
       ]
      },
      {
       "output_type": "stream",
       "stream": "stdout",
       "text": [
        "\n",
        "No Coms found for 2783\n",
        "No Coms found for 2784"
       ]
      },
      {
       "output_type": "stream",
       "stream": "stdout",
       "text": [
        "\n",
        "No Coms found for 2785\n",
        "No Coms found for 2786"
       ]
      },
      {
       "output_type": "stream",
       "stream": "stdout",
       "text": [
        "\n",
        "No Coms found for 2787"
       ]
      },
      {
       "output_type": "stream",
       "stream": "stdout",
       "text": [
        "\n",
        "No Coms found for 2788\n",
        "No Coms found for 2789"
       ]
      },
      {
       "output_type": "stream",
       "stream": "stdout",
       "text": [
        "\n",
        "No Coms found for 2790\n",
        "No Coms found for 2791"
       ]
      },
      {
       "output_type": "stream",
       "stream": "stdout",
       "text": [
        "\n",
        "No Coms found for 2792"
       ]
      },
      {
       "output_type": "stream",
       "stream": "stdout",
       "text": [
        "\n",
        "No Coms found for 2793\n",
        "No Coms found for 2794"
       ]
      },
      {
       "output_type": "stream",
       "stream": "stdout",
       "text": [
        "\n",
        "No Coms found for 2795\n",
        "No Coms found for 2796"
       ]
      },
      {
       "output_type": "stream",
       "stream": "stdout",
       "text": [
        "\n",
        "No Coms found for 2797"
       ]
      },
      {
       "output_type": "stream",
       "stream": "stdout",
       "text": [
        "\n",
        "No Coms found for 2798\n",
        "No Coms found for 2799"
       ]
      },
      {
       "output_type": "stream",
       "stream": "stdout",
       "text": [
        "\n",
        "2800\n",
        "No Coms found for 2800"
       ]
      },
      {
       "output_type": "stream",
       "stream": "stdout",
       "text": [
        "\n",
        "No Coms found for 2801\n",
        "No Coms found for 2802"
       ]
      },
      {
       "output_type": "stream",
       "stream": "stdout",
       "text": [
        "\n",
        "No Coms found for 2803\n",
        "No Coms found for 2804"
       ]
      },
      {
       "output_type": "stream",
       "stream": "stdout",
       "text": [
        "\n",
        "No Coms found for 2805"
       ]
      },
      {
       "output_type": "stream",
       "stream": "stdout",
       "text": [
        "\n",
        "No Coms found for 2806"
       ]
      },
      {
       "output_type": "stream",
       "stream": "stdout",
       "text": [
        "\n",
        "No Coms found for 2807"
       ]
      },
      {
       "output_type": "stream",
       "stream": "stdout",
       "text": [
        "\n",
        "No Coms found for 2808\n",
        "No Coms found for 2809"
       ]
      },
      {
       "output_type": "stream",
       "stream": "stdout",
       "text": [
        "\n",
        "No Coms found for 2810\n",
        "No Coms found for 2811"
       ]
      },
      {
       "output_type": "stream",
       "stream": "stdout",
       "text": [
        "\n",
        "No Coms found for 2812"
       ]
      },
      {
       "output_type": "stream",
       "stream": "stdout",
       "text": [
        "\n",
        "No Coms found for 2813\n",
        "No Coms found for 2814"
       ]
      },
      {
       "output_type": "stream",
       "stream": "stdout",
       "text": [
        "\n",
        "No Coms found for 2815\n",
        "No Coms found for 2816"
       ]
      },
      {
       "output_type": "stream",
       "stream": "stdout",
       "text": [
        "\n",
        "No Coms found for 2817"
       ]
      },
      {
       "output_type": "stream",
       "stream": "stdout",
       "text": [
        "\n",
        "No Coms found for 2818\n",
        "No Coms found for 2819"
       ]
      },
      {
       "output_type": "stream",
       "stream": "stdout",
       "text": [
        "\n",
        "No Coms found for 2820"
       ]
      },
      {
       "output_type": "stream",
       "stream": "stdout",
       "text": [
        "\n",
        "No Coms found for 2821\n",
        "No Coms found for 2822"
       ]
      },
      {
       "output_type": "stream",
       "stream": "stdout",
       "text": [
        "\n",
        "No Coms found for 2823\n",
        "No Coms found for 2824"
       ]
      },
      {
       "output_type": "stream",
       "stream": "stdout",
       "text": [
        "\n",
        "No Coms found for 2825\n",
        "No Coms found for 2826"
       ]
      },
      {
       "output_type": "stream",
       "stream": "stdout",
       "text": [
        "\n",
        "No Coms found for 2827"
       ]
      },
      {
       "output_type": "stream",
       "stream": "stdout",
       "text": [
        "\n",
        "No Coms found for 2828\n",
        "No Coms found for 2829"
       ]
      },
      {
       "output_type": "stream",
       "stream": "stdout",
       "text": [
        "\n",
        "No Coms found for 2830\n",
        "No Coms found for 2831"
       ]
      },
      {
       "output_type": "stream",
       "stream": "stdout",
       "text": [
        "\n",
        "No Coms found for 2832"
       ]
      },
      {
       "output_type": "stream",
       "stream": "stdout",
       "text": [
        "\n",
        "No Coms found for 2833\n",
        "No Coms found for 2834"
       ]
      },
      {
       "output_type": "stream",
       "stream": "stdout",
       "text": [
        "\n",
        "No Coms found for 2835\n",
        "No Coms found for 2836"
       ]
      },
      {
       "output_type": "stream",
       "stream": "stdout",
       "text": [
        "\n",
        "No Coms found for 2837"
       ]
      },
      {
       "output_type": "stream",
       "stream": "stdout",
       "text": [
        "\n",
        "No Coms found for 2838"
       ]
      },
      {
       "output_type": "stream",
       "stream": "stdout",
       "text": [
        "\n",
        "No Coms found for 2839\n",
        "No Coms found for 2840"
       ]
      },
      {
       "output_type": "stream",
       "stream": "stdout",
       "text": [
        "\n",
        "No Coms found for 2841\n",
        "2900"
       ]
      },
      {
       "output_type": "stream",
       "stream": "stdout",
       "text": [
        "\n",
        "3000"
       ]
      },
      {
       "output_type": "stream",
       "stream": "stdout",
       "text": [
        "\n",
        "3100"
       ]
      },
      {
       "output_type": "stream",
       "stream": "stdout",
       "text": [
        "\n",
        "3200"
       ]
      },
      {
       "output_type": "stream",
       "stream": "stdout",
       "text": [
        "\n",
        "3300"
       ]
      },
      {
       "output_type": "stream",
       "stream": "stdout",
       "text": [
        "\n",
        "3400"
       ]
      },
      {
       "output_type": "stream",
       "stream": "stdout",
       "text": [
        "\n",
        "3500"
       ]
      },
      {
       "output_type": "stream",
       "stream": "stdout",
       "text": [
        "\n",
        "3600"
       ]
      },
      {
       "output_type": "stream",
       "stream": "stdout",
       "text": [
        "\n",
        "3700"
       ]
      },
      {
       "output_type": "stream",
       "stream": "stdout",
       "text": [
        "\n",
        "3800"
       ]
      },
      {
       "output_type": "stream",
       "stream": "stdout",
       "text": [
        "\n",
        "3900"
       ]
      },
      {
       "output_type": "stream",
       "stream": "stdout",
       "text": [
        "\n",
        "No Coms found for 3911"
       ]
      },
      {
       "output_type": "stream",
       "stream": "stdout",
       "text": [
        "\n",
        "No Coms found for 3912"
       ]
      },
      {
       "output_type": "stream",
       "stream": "stdout",
       "text": [
        "\n",
        "No Coms found for 3913"
       ]
      },
      {
       "output_type": "stream",
       "stream": "stdout",
       "text": [
        "\n",
        "No Coms found for 3914\n",
        "No Coms found for 3915"
       ]
      },
      {
       "output_type": "stream",
       "stream": "stdout",
       "text": [
        "\n",
        "No Coms found for 3916\n",
        "No Coms found for 3917"
       ]
      },
      {
       "output_type": "stream",
       "stream": "stdout",
       "text": [
        "\n",
        "No Coms found for 3918\n",
        "No Coms found for 3919"
       ]
      },
      {
       "output_type": "stream",
       "stream": "stdout",
       "text": [
        "\n",
        "No Coms found for 3920\n",
        "No Coms found for 3921"
       ]
      },
      {
       "output_type": "stream",
       "stream": "stdout",
       "text": [
        "\n",
        "No Coms found for 3922"
       ]
      },
      {
       "output_type": "stream",
       "stream": "stdout",
       "text": [
        "\n",
        "No Coms found for 3923\n",
        "No Coms found for 3924"
       ]
      },
      {
       "output_type": "stream",
       "stream": "stdout",
       "text": [
        "\n",
        "No Coms found for 3925"
       ]
      },
      {
       "output_type": "stream",
       "stream": "stdout",
       "text": [
        "\n",
        "No Coms found for 3926"
       ]
      },
      {
       "output_type": "stream",
       "stream": "stdout",
       "text": [
        "\n",
        "No Coms found for 3927"
       ]
      },
      {
       "output_type": "stream",
       "stream": "stdout",
       "text": [
        "\n",
        "No Coms found for 3928"
       ]
      },
      {
       "output_type": "stream",
       "stream": "stdout",
       "text": [
        "\n",
        "No Coms found for 3929\n",
        "No Coms found for 3930"
       ]
      },
      {
       "output_type": "stream",
       "stream": "stdout",
       "text": [
        "\n",
        "No Coms found for 3931"
       ]
      },
      {
       "output_type": "stream",
       "stream": "stdout",
       "text": [
        "\n",
        "No Coms found for 3932"
       ]
      },
      {
       "output_type": "stream",
       "stream": "stdout",
       "text": [
        "\n",
        "No Coms found for 3933\n",
        "No Coms found for 3934"
       ]
      },
      {
       "output_type": "stream",
       "stream": "stdout",
       "text": [
        "\n",
        "No Coms found for 3935"
       ]
      },
      {
       "output_type": "stream",
       "stream": "stdout",
       "text": [
        "\n",
        "No Coms found for 3936\n",
        "No Coms found for 3937"
       ]
      },
      {
       "output_type": "stream",
       "stream": "stdout",
       "text": [
        "\n",
        "No Coms found for 3938\n",
        "No Coms found for 3939"
       ]
      },
      {
       "output_type": "stream",
       "stream": "stdout",
       "text": [
        "\n",
        "No Coms found for 3940\n",
        "No Coms found for 3941"
       ]
      },
      {
       "output_type": "stream",
       "stream": "stdout",
       "text": [
        "\n",
        "No Coms found for 3942"
       ]
      },
      {
       "output_type": "stream",
       "stream": "stdout",
       "text": [
        "\n",
        "No Coms found for 3943"
       ]
      },
      {
       "output_type": "stream",
       "stream": "stdout",
       "text": [
        "\n",
        "No Coms found for 3944\n",
        "No Coms found for 3945"
       ]
      },
      {
       "output_type": "stream",
       "stream": "stdout",
       "text": [
        "\n",
        "No Coms found for 3946\n",
        "No Coms found for 3947"
       ]
      },
      {
       "output_type": "stream",
       "stream": "stdout",
       "text": [
        "\n",
        "No Coms found for 3948\n",
        "No Coms found for 3949"
       ]
      },
      {
       "output_type": "stream",
       "stream": "stdout",
       "text": [
        "\n",
        "No Coms found for 3950\n",
        "No Coms found for 3951"
       ]
      },
      {
       "output_type": "stream",
       "stream": "stdout",
       "text": [
        "\n",
        "No Coms found for 3952"
       ]
      },
      {
       "output_type": "stream",
       "stream": "stdout",
       "text": [
        "\n",
        "No Coms found for 3953\n",
        "No Coms found for 3954"
       ]
      },
      {
       "output_type": "stream",
       "stream": "stdout",
       "text": [
        "\n",
        "No Coms found for 3955\n",
        "No Coms found for 3956"
       ]
      },
      {
       "output_type": "stream",
       "stream": "stdout",
       "text": [
        "\n",
        "No Coms found for 3957"
       ]
      },
      {
       "output_type": "stream",
       "stream": "stdout",
       "text": [
        "\n",
        "No Coms found for 3958\n",
        "No Coms found for 3959"
       ]
      },
      {
       "output_type": "stream",
       "stream": "stdout",
       "text": [
        "\n",
        "No Coms found for 3960\n",
        "No Coms found for 3961"
       ]
      },
      {
       "output_type": "stream",
       "stream": "stdout",
       "text": [
        "\n",
        "No Coms found for 3962"
       ]
      },
      {
       "output_type": "stream",
       "stream": "stdout",
       "text": [
        "\n",
        "No Coms found for 3963\n",
        "No Coms found for 3964"
       ]
      },
      {
       "output_type": "stream",
       "stream": "stdout",
       "text": [
        "\n",
        "No Coms found for 3965"
       ]
      },
      {
       "output_type": "stream",
       "stream": "stdout",
       "text": [
        "\n",
        "No Coms found for 3966\n",
        "No Coms found for 3967"
       ]
      },
      {
       "output_type": "stream",
       "stream": "stdout",
       "text": [
        "\n",
        "No Coms found for 3968\n",
        "No Coms found for 3969"
       ]
      },
      {
       "output_type": "stream",
       "stream": "stdout",
       "text": [
        "\n",
        "No Coms found for 3970\n",
        "4000"
       ]
      },
      {
       "output_type": "stream",
       "stream": "stdout",
       "text": [
        "\n",
        "No Coms found for 4096"
       ]
      },
      {
       "output_type": "stream",
       "stream": "stdout",
       "text": [
        "\n",
        "4100"
       ]
      },
      {
       "output_type": "stream",
       "stream": "stdout",
       "text": [
        "\n",
        "4200"
       ]
      },
      {
       "output_type": "stream",
       "stream": "stdout",
       "text": [
        "\n",
        "4300"
       ]
      },
      {
       "output_type": "stream",
       "stream": "stdout",
       "text": [
        "\n",
        "4400"
       ]
      },
      {
       "output_type": "stream",
       "stream": "stdout",
       "text": [
        "\n",
        "4500"
       ]
      },
      {
       "output_type": "stream",
       "stream": "stdout",
       "text": [
        "\n",
        "4600"
       ]
      },
      {
       "output_type": "stream",
       "stream": "stdout",
       "text": [
        "\n",
        "4700"
       ]
      },
      {
       "output_type": "stream",
       "stream": "stdout",
       "text": [
        "\n",
        "No Coms found for 4719"
       ]
      },
      {
       "output_type": "stream",
       "stream": "stdout",
       "text": [
        "\n",
        "4800"
       ]
      },
      {
       "output_type": "stream",
       "stream": "stdout",
       "text": [
        "\n",
        "4900"
       ]
      },
      {
       "output_type": "stream",
       "stream": "stdout",
       "text": [
        "\n",
        "5000"
       ]
      },
      {
       "output_type": "stream",
       "stream": "stdout",
       "text": [
        "\n"
       ]
      }
     ],
     "prompt_number": 5
    },
    {
     "cell_type": "code",
     "collapsed": false,
     "input": [
      "convfacts=np.array(convfacts)\n",
      "print 'mean= ',np.mean(convfacts)\n",
      "print 'std= ',np.std(convfacts)\n",
      "\n",
      "fig0=plt.figure()\n",
      "ax0=fig0.add_subplot(111)\n",
      "ax0.hist(convfacts)\n",
      "plt.show()"
     ],
     "language": "python",
     "metadata": {},
     "outputs": [
      {
       "output_type": "stream",
       "stream": "stdout",
       "text": [
        "10765.3295101\n",
        "1503.99298626\n"
       ]
      },
      {
       "javascript": [
        "/* Put everything inside the global mpl namespace */\n",
        "window.mpl = {};\n",
        "\n",
        "mpl.get_websocket_type = function() {\n",
        "    if (typeof(WebSocket) !== 'undefined') {\n",
        "        return WebSocket;\n",
        "    } else if (typeof(MozWebSocket) !== 'undefined') {\n",
        "        return MozWebSocket;\n",
        "    } else {\n",
        "        alert('Your browser does not have WebSocket support.' +\n",
        "              'Please try Chrome, Safari or Firefox \u2265 6. ' +\n",
        "              'Firefox 4 and 5 are also supported but you ' +\n",
        "              'have to enable WebSockets in about:config.');\n",
        "    };\n",
        "}\n",
        "\n",
        "mpl.figure = function(figure_id, websocket, ondownload, parent_element) {\n",
        "    this.id = figure_id;\n",
        "\n",
        "    this.ws = websocket;\n",
        "\n",
        "    this.supports_binary = (this.ws.binaryType != undefined);\n",
        "\n",
        "    if (!this.supports_binary) {\n",
        "        var warnings = document.getElementById(\"mpl-warnings\");\n",
        "        if (warnings) {\n",
        "            warnings.style.display = 'block';\n",
        "            warnings.textContent = (\n",
        "                \"This browser does not support binary websocket messages. \" +\n",
        "                    \"Performance may be slow.\");\n",
        "        }\n",
        "    }\n",
        "\n",
        "    this.imageObj = new Image();\n",
        "\n",
        "    this.context = undefined;\n",
        "    this.message = undefined;\n",
        "    this.canvas = undefined;\n",
        "    this.rubberband_canvas = undefined;\n",
        "    this.rubberband_context = undefined;\n",
        "    this.format_dropdown = undefined;\n",
        "\n",
        "    this.image_mode = 'full';\n",
        "\n",
        "    this.root = $('<div/>');\n",
        "    this._root_extra_style(this.root)\n",
        "    this.root.attr('style', 'display: inline-block');\n",
        "\n",
        "    $(parent_element).append(this.root);\n",
        "\n",
        "    this._init_header(this);\n",
        "    this._init_canvas(this);\n",
        "    this._init_toolbar(this);\n",
        "\n",
        "    var fig = this;\n",
        "\n",
        "    this.waiting = false;\n",
        "\n",
        "    this.ws.onopen =  function () {\n",
        "            fig.send_message(\"supports_binary\", {value: fig.supports_binary});\n",
        "            fig.send_message(\"send_image_mode\", {});\n",
        "            fig.send_message(\"refresh\", {});\n",
        "        }\n",
        "\n",
        "    this.imageObj.onload = function() {\n",
        "            if (fig.image_mode == 'full') {\n",
        "                // Full images could contain transparency (where diff images\n",
        "                // almost always do), so we need to clear the canvas so that\n",
        "                // there is no ghosting.\n",
        "                fig.context.clearRect(0, 0, fig.canvas.width, fig.canvas.height);\n",
        "            }\n",
        "            fig.context.drawImage(fig.imageObj, 0, 0);\n",
        "            fig.waiting = false;\n",
        "        };\n",
        "\n",
        "    this.imageObj.onunload = function() {\n",
        "        this.ws.close();\n",
        "    }\n",
        "\n",
        "    this.ws.onmessage = this._make_on_message_function(this);\n",
        "\n",
        "    this.ondownload = ondownload;\n",
        "}\n",
        "\n",
        "mpl.figure.prototype._init_header = function() {\n",
        "    var titlebar = $(\n",
        "        '<div class=\"ui-dialog-titlebar ui-widget-header ui-corner-all ' +\n",
        "        'ui-helper-clearfix\"/>');\n",
        "    var titletext = $(\n",
        "        '<div class=\"ui-dialog-title\" style=\"width: 100%; ' +\n",
        "        'text-align: center; padding: 3px;\"/>');\n",
        "    titlebar.append(titletext)\n",
        "    this.root.append(titlebar);\n",
        "    this.header = titletext[0];\n",
        "}\n",
        "\n",
        "\n",
        "\n",
        "mpl.figure.prototype._canvas_extra_style = function(canvas_div) {\n",
        "\n",
        "}\n",
        "\n",
        "\n",
        "mpl.figure.prototype._root_extra_style = function(canvas_div) {\n",
        "\n",
        "}\n",
        "\n",
        "mpl.figure.prototype._init_canvas = function() {\n",
        "    var fig = this;\n",
        "\n",
        "    var canvas_div = $('<div/>');\n",
        "\n",
        "    canvas_div.attr('style', 'position: relative; clear: both; outline: 0');\n",
        "\n",
        "    function canvas_keyboard_event(event) {\n",
        "        return fig.key_event(event, event['data']);\n",
        "    }\n",
        "\n",
        "    canvas_div.keydown('key_press', canvas_keyboard_event);\n",
        "    canvas_div.keyup('key_release', canvas_keyboard_event);\n",
        "    this.canvas_div = canvas_div\n",
        "    this._canvas_extra_style(canvas_div)\n",
        "    this.root.append(canvas_div);\n",
        "\n",
        "    var canvas = $('<canvas/>');\n",
        "    canvas.addClass('mpl-canvas');\n",
        "    canvas.attr('style', \"left: 0; top: 0; z-index: 0; outline: 0\")\n",
        "\n",
        "    this.canvas = canvas[0];\n",
        "    this.context = canvas[0].getContext(\"2d\");\n",
        "\n",
        "    var rubberband = $('<canvas/>');\n",
        "    rubberband.attr('style', \"position: absolute; left: 0; top: 0; z-index: 1;\")\n",
        "\n",
        "    var pass_mouse_events = true;\n",
        "\n",
        "    canvas_div.resizable({\n",
        "        start: function(event, ui) {\n",
        "            pass_mouse_events = false;\n",
        "        },\n",
        "        resize: function(event, ui) {\n",
        "            fig.request_resize(ui.size.width, ui.size.height);\n",
        "        },\n",
        "        stop: function(event, ui) {\n",
        "            pass_mouse_events = true;\n",
        "            fig.request_resize(ui.size.width, ui.size.height);\n",
        "        },\n",
        "    });\n",
        "\n",
        "    function mouse_event_fn(event) {\n",
        "        if (pass_mouse_events)\n",
        "            return fig.mouse_event(event, event['data']);\n",
        "    }\n",
        "\n",
        "    rubberband.mousedown('button_press', mouse_event_fn);\n",
        "    rubberband.mouseup('button_release', mouse_event_fn);\n",
        "    // Throttle sequential mouse events to 1 every 20ms.\n",
        "    rubberband.mousemove('motion_notify', mouse_event_fn);\n",
        "\n",
        "    rubberband.mouseenter('figure_enter', mouse_event_fn);\n",
        "    rubberband.mouseleave('figure_leave', mouse_event_fn);\n",
        "\n",
        "    canvas_div.on(\"wheel\", function (event) {\n",
        "        event = event.originalEvent;\n",
        "        event['data'] = 'scroll'\n",
        "        if (event.deltaY < 0) {\n",
        "            event.step = 1;\n",
        "        } else {\n",
        "            event.step = -1;\n",
        "        }\n",
        "        mouse_event_fn(event);\n",
        "    });\n",
        "\n",
        "    canvas_div.append(canvas);\n",
        "    canvas_div.append(rubberband);\n",
        "\n",
        "    this.rubberband = rubberband;\n",
        "    this.rubberband_canvas = rubberband[0];\n",
        "    this.rubberband_context = rubberband[0].getContext(\"2d\");\n",
        "    this.rubberband_context.strokeStyle = \"#000000\";\n",
        "\n",
        "    this._resize_canvas = function(width, height) {\n",
        "        // Keep the size of the canvas, canvas container, and rubber band\n",
        "        // canvas in synch.\n",
        "        canvas_div.css('width', width)\n",
        "        canvas_div.css('height', height)\n",
        "\n",
        "        canvas.attr('width', width);\n",
        "        canvas.attr('height', height);\n",
        "\n",
        "        rubberband.attr('width', width);\n",
        "        rubberband.attr('height', height);\n",
        "    }\n",
        "\n",
        "    // Set the figure to an initial 600x600px, this will subsequently be updated\n",
        "    // upon first draw.\n",
        "    this._resize_canvas(600, 600);\n",
        "\n",
        "    // Disable right mouse context menu.\n",
        "    $(this.rubberband_canvas).bind(\"contextmenu\",function(e){\n",
        "        return false;\n",
        "    });\n",
        "\n",
        "    function set_focus () {\n",
        "        canvas.focus();\n",
        "        canvas_div.focus();\n",
        "    }\n",
        "\n",
        "    window.setTimeout(set_focus, 100);\n",
        "}\n",
        "\n",
        "mpl.figure.prototype._init_toolbar = function() {\n",
        "    var fig = this;\n",
        "\n",
        "    var nav_element = $('<div/>')\n",
        "    nav_element.attr('style', 'width: 100%');\n",
        "    this.root.append(nav_element);\n",
        "\n",
        "    // Define a callback function for later on.\n",
        "    function toolbar_event(event) {\n",
        "        return fig.toolbar_button_onclick(event['data']);\n",
        "    }\n",
        "    function toolbar_mouse_event(event) {\n",
        "        return fig.toolbar_button_onmouseover(event['data']);\n",
        "    }\n",
        "\n",
        "    for(var toolbar_ind in mpl.toolbar_items) {\n",
        "        var name = mpl.toolbar_items[toolbar_ind][0];\n",
        "        var tooltip = mpl.toolbar_items[toolbar_ind][1];\n",
        "        var image = mpl.toolbar_items[toolbar_ind][2];\n",
        "        var method_name = mpl.toolbar_items[toolbar_ind][3];\n",
        "\n",
        "        if (!name) {\n",
        "            // put a spacer in here.\n",
        "            continue;\n",
        "        }\n",
        "        var button = $('<button/>');\n",
        "        button.addClass('ui-button ui-widget ui-state-default ui-corner-all ' +\n",
        "                        'ui-button-icon-only');\n",
        "        button.attr('role', 'button');\n",
        "        button.attr('aria-disabled', 'false');\n",
        "        button.click(method_name, toolbar_event);\n",
        "        button.mouseover(tooltip, toolbar_mouse_event);\n",
        "\n",
        "        var icon_img = $('<span/>');\n",
        "        icon_img.addClass('ui-button-icon-primary ui-icon');\n",
        "        icon_img.addClass(image);\n",
        "        icon_img.addClass('ui-corner-all');\n",
        "\n",
        "        var tooltip_span = $('<span/>');\n",
        "        tooltip_span.addClass('ui-button-text');\n",
        "        tooltip_span.html(tooltip);\n",
        "\n",
        "        button.append(icon_img);\n",
        "        button.append(tooltip_span);\n",
        "\n",
        "        nav_element.append(button);\n",
        "    }\n",
        "\n",
        "    var fmt_picker_span = $('<span/>');\n",
        "\n",
        "    var fmt_picker = $('<select/>');\n",
        "    fmt_picker.addClass('mpl-toolbar-option ui-widget ui-widget-content');\n",
        "    fmt_picker_span.append(fmt_picker);\n",
        "    nav_element.append(fmt_picker_span);\n",
        "    this.format_dropdown = fmt_picker[0];\n",
        "\n",
        "    for (var ind in mpl.extensions) {\n",
        "        var fmt = mpl.extensions[ind];\n",
        "        var option = $(\n",
        "            '<option/>', {selected: fmt === mpl.default_extension}).html(fmt);\n",
        "        fmt_picker.append(option)\n",
        "    }\n",
        "\n",
        "    // Add hover states to the ui-buttons\n",
        "    $( \".ui-button\" ).hover(\n",
        "        function() { $(this).addClass(\"ui-state-hover\");},\n",
        "        function() { $(this).removeClass(\"ui-state-hover\");}\n",
        "    );\n",
        "\n",
        "    var status_bar = $('<span class=\"mpl-message\"/>');\n",
        "    nav_element.append(status_bar);\n",
        "    this.message = status_bar[0];\n",
        "}\n",
        "\n",
        "mpl.figure.prototype.request_resize = function(x_pixels, y_pixels) {\n",
        "    // Request matplotlib to resize the figure. Matplotlib will then trigger a resize in the client,\n",
        "    // which will in turn request a refresh of the image.\n",
        "    this.send_message('resize', {'width': x_pixels, 'height': y_pixels});\n",
        "}\n",
        "\n",
        "mpl.figure.prototype.send_message = function(type, properties) {\n",
        "    properties['type'] = type;\n",
        "    properties['figure_id'] = this.id;\n",
        "    this.ws.send(JSON.stringify(properties));\n",
        "}\n",
        "\n",
        "mpl.figure.prototype.send_draw_message = function() {\n",
        "    if (!this.waiting) {\n",
        "        this.waiting = true;\n",
        "        this.ws.send(JSON.stringify({type: \"draw\", figure_id: this.id}));\n",
        "    }\n",
        "}\n",
        "\n",
        "\n",
        "mpl.figure.prototype.handle_save = function(fig, msg) {\n",
        "    var format_dropdown = fig.format_dropdown;\n",
        "    var format = format_dropdown.options[format_dropdown.selectedIndex].value;\n",
        "    fig.ondownload(fig, format);\n",
        "}\n",
        "\n",
        "\n",
        "mpl.figure.prototype.handle_resize = function(fig, msg) {\n",
        "    var size = msg['size'];\n",
        "    if (size[0] != fig.canvas.width || size[1] != fig.canvas.height) {\n",
        "        fig._resize_canvas(size[0], size[1]);\n",
        "        fig.send_message(\"refresh\", {});\n",
        "    };\n",
        "}\n",
        "\n",
        "mpl.figure.prototype.handle_rubberband = function(fig, msg) {\n",
        "    var x0 = msg['x0'];\n",
        "    var y0 = fig.canvas.height - msg['y0'];\n",
        "    var x1 = msg['x1'];\n",
        "    var y1 = fig.canvas.height - msg['y1'];\n",
        "    x0 = Math.floor(x0) + 0.5;\n",
        "    y0 = Math.floor(y0) + 0.5;\n",
        "    x1 = Math.floor(x1) + 0.5;\n",
        "    y1 = Math.floor(y1) + 0.5;\n",
        "    var min_x = Math.min(x0, x1);\n",
        "    var min_y = Math.min(y0, y1);\n",
        "    var width = Math.abs(x1 - x0);\n",
        "    var height = Math.abs(y1 - y0);\n",
        "\n",
        "    fig.rubberband_context.clearRect(\n",
        "        0, 0, fig.canvas.width, fig.canvas.height);\n",
        "\n",
        "    fig.rubberband_context.strokeRect(min_x, min_y, width, height);\n",
        "}\n",
        "\n",
        "mpl.figure.prototype.handle_figure_label = function(fig, msg) {\n",
        "    // Updates the figure title.\n",
        "    fig.header.textContent = msg['label'];\n",
        "}\n",
        "\n",
        "mpl.figure.prototype.handle_cursor = function(fig, msg) {\n",
        "    var cursor = msg['cursor'];\n",
        "    switch(cursor)\n",
        "    {\n",
        "    case 0:\n",
        "        cursor = 'pointer';\n",
        "        break;\n",
        "    case 1:\n",
        "        cursor = 'default';\n",
        "        break;\n",
        "    case 2:\n",
        "        cursor = 'crosshair';\n",
        "        break;\n",
        "    case 3:\n",
        "        cursor = 'move';\n",
        "        break;\n",
        "    }\n",
        "    fig.rubberband_canvas.style.cursor = cursor;\n",
        "}\n",
        "\n",
        "mpl.figure.prototype.handle_message = function(fig, msg) {\n",
        "    fig.message.textContent = msg['message'];\n",
        "}\n",
        "\n",
        "mpl.figure.prototype.handle_draw = function(fig, msg) {\n",
        "    // Request the server to send over a new figure.\n",
        "    fig.send_draw_message();\n",
        "}\n",
        "\n",
        "mpl.figure.prototype.handle_image_mode = function(fig, msg) {\n",
        "    fig.image_mode = msg['mode'];\n",
        "}\n",
        "\n",
        "mpl.figure.prototype.updated_canvas_event = function() {\n",
        "    // Called whenever the canvas gets updated.\n",
        "    this.send_message(\"ack\", {});\n",
        "}\n",
        "\n",
        "// A function to construct a web socket function for onmessage handling.\n",
        "// Called in the figure constructor.\n",
        "mpl.figure.prototype._make_on_message_function = function(fig) {\n",
        "    return function socket_on_message(evt) {\n",
        "        if (evt.data instanceof Blob) {\n",
        "            /* FIXME: We get \"Resource interpreted as Image but\n",
        "             * transferred with MIME type text/plain:\" errors on\n",
        "             * Chrome.  But how to set the MIME type?  It doesn't seem\n",
        "             * to be part of the websocket stream */\n",
        "            evt.data.type = \"image/png\";\n",
        "\n",
        "            /* Free the memory for the previous frames */\n",
        "            if (fig.imageObj.src) {\n",
        "                (window.URL || window.webkitURL).revokeObjectURL(\n",
        "                    fig.imageObj.src);\n",
        "            }\n",
        "\n",
        "            fig.imageObj.src = (window.URL || window.webkitURL).createObjectURL(\n",
        "                evt.data);\n",
        "            fig.updated_canvas_event();\n",
        "            return;\n",
        "        }\n",
        "        else if (typeof evt.data === 'string' && evt.data.slice(0, 21) == \"data:image/png;base64\") {\n",
        "            fig.imageObj.src = evt.data;\n",
        "            fig.updated_canvas_event();\n",
        "            return;\n",
        "        }\n",
        "\n",
        "        var msg = JSON.parse(evt.data);\n",
        "        var msg_type = msg['type'];\n",
        "\n",
        "        // Call the  \"handle_{type}\" callback, which takes\n",
        "        // the figure and JSON message as its only arguments.\n",
        "        try {\n",
        "            var callback = fig[\"handle_\" + msg_type];\n",
        "        } catch (e) {\n",
        "            console.log(\"No handler for the '\" + msg_type + \"' message type: \", msg);\n",
        "            return;\n",
        "        }\n",
        "\n",
        "        if (callback) {\n",
        "            try {\n",
        "                // console.log(\"Handling '\" + msg_type + \"' message: \", msg);\n",
        "                callback(fig, msg);\n",
        "            } catch (e) {\n",
        "                console.log(\"Exception inside the 'handler_\" + msg_type + \"' callback:\", e, e.stack, msg);\n",
        "            }\n",
        "        }\n",
        "    };\n",
        "}\n",
        "\n",
        "// from http://stackoverflow.com/questions/1114465/getting-mouse-location-in-canvas\n",
        "mpl.findpos = function(e) {\n",
        "    //this section is from http://www.quirksmode.org/js/events_properties.html\n",
        "    var targ;\n",
        "    if (!e)\n",
        "        e = window.event;\n",
        "    if (e.target)\n",
        "        targ = e.target;\n",
        "    else if (e.srcElement)\n",
        "        targ = e.srcElement;\n",
        "    if (targ.nodeType == 3) // defeat Safari bug\n",
        "        targ = targ.parentNode;\n",
        "\n",
        "    // jQuery normalizes the pageX and pageY\n",
        "    // pageX,Y are the mouse positions relative to the document\n",
        "    // offset() returns the position of the element relative to the document\n",
        "    var x = e.pageX - $(targ).offset().left;\n",
        "    var y = e.pageY - $(targ).offset().top;\n",
        "\n",
        "    return {\"x\": x, \"y\": y};\n",
        "};\n",
        "\n",
        "mpl.figure.prototype.mouse_event = function(event, name) {\n",
        "    var canvas_pos = mpl.findpos(event)\n",
        "\n",
        "    if (name === 'button_press')\n",
        "    {\n",
        "        this.canvas.focus();\n",
        "        this.canvas_div.focus();\n",
        "    }\n",
        "\n",
        "    var x = canvas_pos.x;\n",
        "    var y = canvas_pos.y;\n",
        "\n",
        "    this.send_message(name, {x: x, y: y, button: event.button,\n",
        "                             step: event.step});\n",
        "\n",
        "    /* This prevents the web browser from automatically changing to\n",
        "     * the text insertion cursor when the button is pressed.  We want\n",
        "     * to control all of the cursor setting manually through the\n",
        "     * 'cursor' event from matplotlib */\n",
        "    event.preventDefault();\n",
        "    return false;\n",
        "}\n",
        "\n",
        "mpl.figure.prototype._key_event_extra = function(event, name) {\n",
        "    // Handle any extra behaviour associated with a key event\n",
        "}\n",
        "\n",
        "mpl.figure.prototype.key_event = function(event, name) {\n",
        "\n",
        "    // Prevent repeat events\n",
        "    if (name == 'key_press')\n",
        "    {\n",
        "        if (event.which === this._key)\n",
        "            return;\n",
        "        else\n",
        "            this._key = event.which;\n",
        "    }\n",
        "    if (name == 'key_release')\n",
        "        this._key = null;\n",
        "\n",
        "    var value = '';\n",
        "    if (event.ctrlKey && event.which != 17)\n",
        "        value += \"ctrl+\";\n",
        "    if (event.altKey && event.which != 18)\n",
        "        value += \"alt+\";\n",
        "    if (event.shiftKey && event.which != 16)\n",
        "        value += \"shift+\";\n",
        "\n",
        "    value += 'k';\n",
        "    value += event.which.toString();\n",
        "\n",
        "    this._key_event_extra(event, name);\n",
        "\n",
        "    this.send_message(name, {key: value});\n",
        "    return false;\n",
        "}\n",
        "\n",
        "mpl.figure.prototype.toolbar_button_onclick = function(name) {\n",
        "    if (name == 'download') {\n",
        "        this.handle_save(this, null);\n",
        "    } else {\n",
        "        this.send_message(\"toolbar_button\", {name: name});\n",
        "    }\n",
        "};\n",
        "\n",
        "mpl.figure.prototype.toolbar_button_onmouseover = function(tooltip) {\n",
        "    this.message.textContent = tooltip;\n",
        "};\n",
        "mpl.toolbar_items = [[\"Home\", \"Reset original view\", \"fa fa-home icon-home\", \"home\"], [\"Back\", \"Back to  previous view\", \"fa fa-arrow-left icon-arrow-left\", \"back\"], [\"Forward\", \"Forward to next view\", \"fa fa-arrow-right icon-arrow-right\", \"forward\"], [\"\", \"\", \"\", \"\"], [\"Pan\", \"Pan axes with left mouse, zoom with right\", \"fa fa-arrows icon-move\", \"pan\"], [\"Zoom\", \"Zoom to rectangle\", \"fa fa-square-o icon-check-empty\", \"zoom\"], [\"\", \"\", \"\", \"\"], [\"Download\", \"Download plot\", \"fa fa-floppy-o icon-save\", \"download\"]];\n",
        "\n",
        "mpl.extensions = [\"eps\", \"jpeg\", \"pdf\", \"png\", \"ps\", \"raw\", \"svg\", \"tif\"];\n",
        "\n",
        "mpl.default_extension = \"png\";var comm_websocket_adapter = function(comm) {\n",
        "    // Create a \"websocket\"-like object which calls the given IPython comm\n",
        "    // object with the appropriate methods. Currently this is a non binary\n",
        "    // socket, so there is still some room for performance tuning.\n",
        "    var ws = {};\n",
        "\n",
        "    ws.close = function() {\n",
        "        comm.close()\n",
        "    };\n",
        "    ws.send = function(m) {\n",
        "        //console.log('sending', m);\n",
        "        comm.send(m);\n",
        "    };\n",
        "    // Register the callback with on_msg.\n",
        "    comm.on_msg(function(msg) {\n",
        "        //console.log('receiving', msg['content']['data'], msg);\n",
        "        // Pass the mpl event to the overriden (by mpl) onmessage function.\n",
        "        ws.onmessage(msg['content']['data'])\n",
        "    });\n",
        "    return ws;\n",
        "}\n",
        "\n",
        "mpl.mpl_figure_comm = function(comm, msg) {\n",
        "    // This is the function which gets called when the mpl process\n",
        "    // starts-up an IPython Comm through the \"matplotlib\" channel.\n",
        "\n",
        "    var id = msg.content.data.id;\n",
        "    // Get hold of the div created by the display call when the Comm\n",
        "    // socket was opened in Python.\n",
        "    var element = $(\"#\" + id);\n",
        "    var ws_proxy = comm_websocket_adapter(comm)\n",
        "\n",
        "    function ondownload(figure, format) {\n",
        "        window.open(figure.imageObj.src);\n",
        "    }\n",
        "\n",
        "    var fig = new mpl.figure(id, ws_proxy,\n",
        "                           ondownload,\n",
        "                           element.get(0));\n",
        "\n",
        "    // Call onopen now - mpl needs it, as it is assuming we've passed it a real\n",
        "    // web socket which is closed, not our websocket->open comm proxy.\n",
        "    ws_proxy.onopen();\n",
        "\n",
        "    fig.parent_element = element.get(0);\n",
        "    fig.cell_info = mpl.find_output_cell(\"<div id='\" + id + \"'></div>\");\n",
        "    if (!fig.cell_info) {\n",
        "        console.error(\"Failed to find cell for figure\", id, fig);\n",
        "        return;\n",
        "    }\n",
        "\n",
        "    var output_index = fig.cell_info[2]\n",
        "    var cell = fig.cell_info[0];\n",
        "\n",
        "};\n",
        "\n",
        "mpl.figure.prototype.handle_close = function(fig, msg) {\n",
        "    // Update the output cell to use the data from the current canvas.\n",
        "    fig.push_to_output();\n",
        "    var dataURL = fig.canvas.toDataURL();\n",
        "    // Re-enable the keyboard manager in IPython - without this line, in FF,\n",
        "    // the notebook keyboard shortcuts fail.\n",
        "    IPython.keyboard_manager.enable()\n",
        "    $(fig.parent_element).html('<img src=\"' + dataURL + '\">');\n",
        "    fig.send_message('closing', {});\n",
        "    fig.ws.close()\n",
        "}\n",
        "\n",
        "mpl.figure.prototype.push_to_output = function(remove_interactive) {\n",
        "    // Turn the data on the canvas into data in the output cell.\n",
        "    var dataURL = this.canvas.toDataURL();\n",
        "    this.cell_info[1]['text/html'] = '<img src=\"' + dataURL + '\">';\n",
        "}\n",
        "\n",
        "mpl.figure.prototype.updated_canvas_event = function() {\n",
        "    // Tell IPython that the notebook contents must change.\n",
        "    IPython.notebook.set_dirty(true);\n",
        "    this.send_message(\"ack\", {});\n",
        "    var fig = this;\n",
        "    // Wait a second, then push the new image to the DOM so\n",
        "    // that it is saved nicely (might be nice to debounce this).\n",
        "    setTimeout(function () { fig.push_to_output() }, 1000);\n",
        "}\n",
        "\n",
        "mpl.figure.prototype._init_toolbar = function() {\n",
        "    var fig = this;\n",
        "\n",
        "    var nav_element = $('<div/>')\n",
        "    nav_element.attr('style', 'width: 100%');\n",
        "    this.root.append(nav_element);\n",
        "\n",
        "    // Define a callback function for later on.\n",
        "    function toolbar_event(event) {\n",
        "        return fig.toolbar_button_onclick(event['data']);\n",
        "    }\n",
        "    function toolbar_mouse_event(event) {\n",
        "        return fig.toolbar_button_onmouseover(event['data']);\n",
        "    }\n",
        "\n",
        "    for(var toolbar_ind in mpl.toolbar_items){\n",
        "        var name = mpl.toolbar_items[toolbar_ind][0];\n",
        "        var tooltip = mpl.toolbar_items[toolbar_ind][1];\n",
        "        var image = mpl.toolbar_items[toolbar_ind][2];\n",
        "        var method_name = mpl.toolbar_items[toolbar_ind][3];\n",
        "\n",
        "        if (!name) { continue; };\n",
        "\n",
        "        var button = $('<button class=\"btn btn-default\" href=\"#\" title=\"' + name + '\"><i class=\"fa ' + image + ' fa-lg\"></i></button>');\n",
        "        button.click(method_name, toolbar_event);\n",
        "        button.mouseover(tooltip, toolbar_mouse_event);\n",
        "        nav_element.append(button);\n",
        "    }\n",
        "\n",
        "    // Add the status bar.\n",
        "    var status_bar = $('<span class=\"mpl-message\" style=\"text-align:right; float: right;\"/>');\n",
        "    nav_element.append(status_bar);\n",
        "    this.message = status_bar[0];\n",
        "\n",
        "    // Add the close button to the window.\n",
        "    var buttongrp = $('<div class=\"btn-group inline pull-right\"></div>');\n",
        "    var button = $('<button class=\"btn btn-mini btn-danger\" href=\"#\" title=\"Close figure\"><i class=\"fa fa-times icon-remove icon-large\"></i></button>');\n",
        "    button.click(function (evt) { fig.handle_close(fig, {}); } );\n",
        "    button.mouseover('Close figure', toolbar_mouse_event);\n",
        "    buttongrp.append(button);\n",
        "    var titlebar = this.root.find($('.ui-dialog-titlebar'));\n",
        "    titlebar.prepend(buttongrp);\n",
        "}\n",
        "\n",
        "\n",
        "mpl.figure.prototype._canvas_extra_style = function(el){\n",
        "    // this is important to make the div 'focusable\n",
        "    el.attr('tabindex', 0)\n",
        "    // reach out to IPython and tell the keyboard manager to turn it's self\n",
        "    // off when our div gets focus\n",
        "\n",
        "    // location in version 3\n",
        "    if (IPython.notebook.keyboard_manager) {\n",
        "        IPython.notebook.keyboard_manager.register_events(el);\n",
        "    }\n",
        "    else {\n",
        "        // location in version 2\n",
        "        IPython.keyboard_manager.register_events(el);\n",
        "    }\n",
        "\n",
        "}\n",
        "\n",
        "mpl.figure.prototype._key_event_extra = function(event, name) {\n",
        "    var manager = IPython.notebook.keyboard_manager;\n",
        "    if (!manager)\n",
        "        manager = IPython.keyboard_manager;\n",
        "\n",
        "    // Check for shift+enter\n",
        "    if (event.shiftKey && event.which == 13) {\n",
        "        this.canvas_div.blur();\n",
        "        event.shiftKey = false;\n",
        "        // Send a \"J\" for go to next cell\n",
        "        event.which = 74;\n",
        "        event.keyCode = 74;\n",
        "        manager.command_mode();\n",
        "        manager.handle_keydown(event);\n",
        "    }\n",
        "}\n",
        "\n",
        "mpl.figure.prototype.handle_save = function(fig, msg) {\n",
        "    fig.ondownload(fig, null);\n",
        "}\n",
        "\n",
        "\n",
        "mpl.find_output_cell = function(html_output) {\n",
        "    // Return the cell and output element which can be found *uniquely* in the notebook.\n",
        "    // Note - this is a bit hacky, but it is done because the \"notebook_saving.Notebook\"\n",
        "    // IPython event is triggered only after the cells have been serialised, which for\n",
        "    // our purposes (turning an active figure into a static one), is too late.\n",
        "    var cells = IPython.notebook.get_cells();\n",
        "    var ncells = cells.length;\n",
        "    for (var i=0; i<ncells; i++) {\n",
        "        var cell = cells[i];\n",
        "        if (cell.cell_type === 'code'){\n",
        "            for (var j=0; j<cell.output_area.outputs.length; j++) {\n",
        "                var data = cell.output_area.outputs[j];\n",
        "                if (data.data) {\n",
        "                    // IPython >= 3 moved mimebundle to data attribute of output\n",
        "                    data = data.data;\n",
        "                }\n",
        "                if (data['text/html'] == html_output) {\n",
        "                    return [cell, data, j];\n",
        "                }\n",
        "            }\n",
        "        }\n",
        "    }\n",
        "}\n",
        "\n",
        "// Register the function which deals with the matplotlib target/channel.\n",
        "// The kernel may be null if the page has been refreshed.\n",
        "if (IPython.notebook.kernel != null) {\n",
        "    IPython.notebook.kernel.comm_manager.register_target('matplotlib', mpl.mpl_figure_comm);\n",
        "}\n"
       ],
       "metadata": {},
       "output_type": "display_data",
       "text": [
        "<IPython.core.display.Javascript at 0x7fa0a0beeb50>"
       ]
      },
      {
       "html": [
        "<img src=\"data:image/png;base64,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\">"
       ],
       "metadata": {},
       "output_type": "display_data",
       "text": [
        "<IPython.core.display.HTML at 0x7fa0a0d502d0>"
       ]
      }
     ],
     "prompt_number": 7
    },
    {
     "cell_type": "code",
     "collapsed": false,
     "input": [
      "convfacts"
     ],
     "language": "python",
     "metadata": {},
     "outputs": [
      {
       "metadata": {},
       "output_type": "pyout",
       "prompt_number": 4,
       "text": [
        "[12323.083333333334,\n",
        " 9492.8275862068967,\n",
        " 10973.088235294117,\n",
        " 12353.0,\n",
        " 12489.739130434782,\n",
        " 10240.4375,\n",
        " 12315.48717948718,\n",
        " 9487.6176470588234,\n",
        " 9984.608695652174,\n",
        " 12056.75,\n",
        " 15314.214285714286,\n",
        " 9168.3600000000006,\n",
        " 12537.280000000001,\n",
        " 12358.639999999999,\n",
        " 11780.928571428571,\n",
        " 11063.347826086956,\n",
        " 11569.633333333333,\n",
        " 12466.535714285714,\n",
        " 10517.360000000001,\n",
        " 12187.388888888889,\n",
        " 10541.923076923076,\n",
        " 7724.1000000000004,\n",
        " 10496.121212121212,\n",
        " 8379.2399999999998,\n",
        " 10520.125,\n",
        " 9978.4516129032254,\n",
        " 10442.461538461539,\n",
        " 11287.444444444445,\n",
        " 10615.878787878788,\n",
        " 8323.6206896551721,\n",
        " 10401.916666666666,\n",
        " 0.0,\n",
        " 0.0,\n",
        " 0.0,\n",
        " 0.0,\n",
        " 0.0,\n",
        " 0.0,\n",
        " 0.0,\n",
        " 0.0,\n",
        " 0.0,\n",
        " 0.0,\n",
        " 0.0,\n",
        " 0.0,\n",
        " 0.0,\n",
        " 0.0,\n",
        " 0.0,\n",
        " 0.0,\n",
        " 0.0,\n",
        " 0.0,\n",
        " 0.0,\n",
        " 0.0]"
       ]
      }
     ],
     "prompt_number": 4
    },
    {
     "cell_type": "code",
     "collapsed": false,
     "input": [],
     "language": "python",
     "metadata": {},
     "outputs": [
      {
       "metadata": {},
       "output_type": "pyout",
       "prompt_number": 13,
       "text": [
        "array([ nan,  nan,  nan])"
       ]
      }
     ],
     "prompt_number": 13
    }
   ],
   "metadata": {}
  }
 ]
}